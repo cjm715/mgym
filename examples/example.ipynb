{
 "cells": [
  {
   "cell_type": "code",
   "execution_count": 1,
   "metadata": {},
   "outputs": [],
   "source": [
    "import matplotlib.pyplot as plt\n",
    "%matplotlib inline\n",
    "%config InlineBackend.figure_format = 'retina'\n",
    "import seaborn as sns\n",
    "import numpy as np\n",
    "%load_ext autoreload\n",
    "%autoreload 2"
   ]
  },
  {
   "cell_type": "code",
   "execution_count": null,
   "metadata": {},
   "outputs": [],
   "source": []
  },
  {
   "cell_type": "code",
   "execution_count": 7,
   "metadata": {},
   "outputs": [
    {
     "name": "stdout",
     "output_type": "stream",
     "text": [
      "Player X\n",
      "|   |   |   |\n",
      "\n",
      "|   |   |   |\n",
      "\n",
      "|   | X |   |\n",
      "\n",
      "Player O \n",
      "|   |   |   |\n",
      "\n",
      "| O |   |   |\n",
      "\n",
      "|   | X |   |\n",
      "\n",
      "Player X\n",
      "|   |   |   |\n",
      "\n",
      "| O |   | X |\n",
      "\n",
      "|   | X |   |\n",
      "\n",
      "Player O \n",
      "|   |   |   |\n",
      "\n",
      "| O | O | X |\n",
      "\n",
      "|   | X |   |\n",
      "\n",
      "Player X\n",
      "|   |   |   |\n",
      "\n",
      "| O | O | X |\n",
      "\n",
      "|   | X | X |\n",
      "\n",
      "Player O \n",
      "| O |   |   |\n",
      "\n",
      "| O | O | X |\n",
      "\n",
      "|   | X | X |\n",
      "\n",
      "Player X\n",
      "| O | X |   |\n",
      "\n",
      "| O | O | X |\n",
      "\n",
      "|   | X | X |\n",
      "\n",
      "Player O \n",
      "| O | X | O |\n",
      "\n",
      "| O | O | X |\n",
      "\n",
      "|   | X | X |\n",
      "\n",
      "Player X\n",
      "| O | X | O |\n",
      "\n",
      "| O | O | X |\n",
      "\n",
      "| X | X | X |\n",
      "\n"
     ]
    }
   ],
   "source": [
    "import gym\n",
    "import mgym \n",
    "import random\n",
    "\n",
    "env = gym.make('TicTacToe-v0')\n",
    "fullobs = env.reset()\n",
    "while True:\n",
    "    print('Player O ') if fullobs[0] else print('Player X')\n",
    "    a = random.choice(env.get_available_actions())\n",
    "    fullobs,rewards,done,_ = env.step(a)\n",
    "    env.render()\n",
    "    if done:\n",
    "        break"
   ]
  },
  {
   "cell_type": "code",
   "execution_count": 8,
   "metadata": {},
   "outputs": [
    {
     "name": "stdout",
     "output_type": "stream",
     "text": [
      " \n",
      "Iteration: 0\n",
      "Player 1 | action: ROCK reward:-1\n",
      "Player 2 | action: PAPER reward:1\n",
      "Player 2 won!\n",
      "(-1, 1)\n",
      " \n",
      "Iteration: 1\n",
      "Player 1 | action: SCISSORS reward:1\n",
      "Player 2 | action: PAPER reward:-1\n",
      "Player 1 won!\n",
      "(1, -1)\n",
      " \n",
      "Iteration: 2\n",
      "Player 1 | action: ROCK reward:0\n",
      "Player 2 | action: ROCK reward:0\n",
      "Game is tied.\n",
      "(0, 0)\n"
     ]
    }
   ],
   "source": [
    "env = gym.make('RockPaperScissors-v0')\n",
    "obs = env.reset(3)\n",
    "while True:\n",
    "    a = env.action_space.sample()\n",
    "    _,r,done,_ = env.step(a)\n",
    "    env.render()\n",
    "    print(r)\n",
    "    if done:\n",
    "        break\n"
   ]
  },
  {
   "cell_type": "code",
   "execution_count": 9,
   "metadata": {},
   "outputs": [
    {
     "name": "stdout",
     "output_type": "stream",
     "text": [
      " \n",
      "Iteration: 0\n",
      "Player 1 | action: DEFECT reward:5\n",
      "Player 2 | action: COOPERATE reward:0\n",
      "Player 1 won!\n",
      " \n",
      "Iteration: 1\n",
      "Player 1 | action: DEFECT reward:5\n",
      "Player 2 | action: COOPERATE reward:0\n",
      "Player 1 won!\n",
      " \n",
      "Iteration: 2\n",
      "Player 1 | action: COOPERATE reward:0\n",
      "Player 2 | action: DEFECT reward:5\n",
      "Player 2 won!\n"
     ]
    }
   ],
   "source": [
    "env = gym.make('PrisonersDilemma-v0')\n",
    "obs = env.reset(3)\n",
    "while True:\n",
    "    a = env.action_space.sample()\n",
    "    _,r,done,_ = env.step(a)\n",
    "    env.render()\n",
    "    if done:\n",
    "        break"
   ]
  },
  {
   "cell_type": "code",
   "execution_count": 12,
   "metadata": {},
   "outputs": [
    {
     "name": "stdout",
     "output_type": "stream",
     "text": [
      " \n",
      "Iteration: 0\n",
      "Player 1 | action: HARE reward:1\n",
      "Player 2 | action: STAG reward:0\n",
      "Player 1 won!\n",
      " \n",
      "Iteration: 1\n",
      "Player 1 | action: HARE reward:1\n",
      "Player 2 | action: HARE reward:1\n",
      "Game is tied.\n",
      " \n",
      "Iteration: 2\n",
      "Player 1 | action: HARE reward:1\n",
      "Player 2 | action: STAG reward:0\n",
      "Player 1 won!\n"
     ]
    }
   ],
   "source": [
    "env = gym.make('StagHunt-v0')\n",
    "obs = env.reset(3)\n",
    "while True:\n",
    "    a = env.action_space.sample()\n",
    "    _,r,done,_ = env.step(a)\n",
    "    env.render()\n",
    "    if done:\n",
    "        break"
   ]
  },
  {
   "cell_type": "code",
   "execution_count": 11,
   "metadata": {},
   "outputs": [
    {
     "name": "stdout",
     "output_type": "stream",
     "text": [
      " \n",
      "Iteration: 0\n",
      "Player 1 | action: OPERA reward:3\n",
      "Player 2 | action: OPERA reward:2\n",
      "Player 1 won!\n",
      " \n",
      "Iteration: 1\n",
      "Player 1 | action: OPERA reward:0\n",
      "Player 2 | action: FOOTBALL reward:0\n",
      "Game is tied.\n",
      " \n",
      "Iteration: 2\n",
      "Player 1 | action: OPERA reward:0\n",
      "Player 2 | action: FOOTBALL reward:0\n",
      "Game is tied.\n"
     ]
    }
   ],
   "source": [
    "env = gym.make('BattleOfTheSexes-v0')\n",
    "obs = env.reset(3)\n",
    "while True:\n",
    "    a = env.action_space.sample()\n",
    "    _,r,done,_ = env.step(a)\n",
    "    env.render()\n",
    "    if done:\n",
    "        break"
   ]
  },
  {
   "cell_type": "code",
   "execution_count": null,
   "metadata": {},
   "outputs": [],
   "source": []
  },
  {
   "cell_type": "code",
   "execution_count": null,
   "metadata": {},
   "outputs": [],
   "source": []
  },
  {
   "cell_type": "code",
   "execution_count": null,
   "metadata": {},
   "outputs": [],
   "source": []
  }
 ],
 "metadata": {
  "kernelspec": {
   "display_name": "Python 3",
   "language": "python",
   "name": "python3"
  },
  "language_info": {
   "codemirror_mode": {
    "name": "ipython",
    "version": 3
   },
   "file_extension": ".py",
   "mimetype": "text/x-python",
   "name": "python",
   "nbconvert_exporter": "python",
   "pygments_lexer": "ipython3",
   "version": "3.6.6"
  },
  "toc": {
   "base_numbering": 1,
   "nav_menu": {},
   "number_sections": true,
   "sideBar": true,
   "skip_h1_title": false,
   "title_cell": "Table of Contents",
   "title_sidebar": "Contents",
   "toc_cell": false,
   "toc_position": {},
   "toc_section_display": true,
   "toc_window_display": false
  },
  "varInspector": {
   "cols": {
    "lenName": 16,
    "lenType": 16,
    "lenVar": 40
   },
   "kernels_config": {
    "python": {
     "delete_cmd_postfix": "",
     "delete_cmd_prefix": "del ",
     "library": "var_list.py",
     "varRefreshCmd": "print(var_dic_list())"
    },
    "r": {
     "delete_cmd_postfix": ") ",
     "delete_cmd_prefix": "rm(",
     "library": "var_list.r",
     "varRefreshCmd": "cat(var_dic_list()) "
    }
   },
   "types_to_exclude": [
    "module",
    "function",
    "builtin_function_or_method",
    "instance",
    "_Feature"
   ],
   "window_display": false
  }
 },
 "nbformat": 4,
 "nbformat_minor": 2
}
