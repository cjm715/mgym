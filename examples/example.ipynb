{
 "cells": [
  {
   "cell_type": "code",
   "execution_count": 12,
   "metadata": {},
   "outputs": [
    {
     "name": "stdout",
     "output_type": "stream",
     "text": [
      "The autoreload extension is already loaded. To reload it, use:\n",
      "  %reload_ext autoreload\n"
     ]
    }
   ],
   "source": [
    "import matplotlib.pyplot as plt\n",
    "%matplotlib inline\n",
    "%config InlineBackend.figure_format = 'retina'\n",
    "import seaborn as sns\n",
    "import numpy as np\n",
    "import mgym \n",
    "\n",
    "%load_ext autoreload\n",
    "%autoreload 2"
   ]
  },
  {
   "cell_type": "code",
   "execution_count": 37,
   "metadata": {},
   "outputs": [
    {
     "name": "stdout",
     "output_type": "stream",
     "text": [
      "|   |   |   |\n",
      "\n",
      "|   |   |   |\n",
      "\n",
      "|   |   |   |\n",
      "\n",
      "Player X\n",
      "|   |   |   |\n",
      "\n",
      "|   |   |   |\n",
      "\n",
      "|   | X |   |\n",
      "\n",
      "Player O \n",
      "|   |   |   |\n",
      "\n",
      "|   |   |   |\n",
      "\n",
      "| O | X |   |\n",
      "\n",
      "Player X\n",
      "|   |   |   |\n",
      "\n",
      "|   |   |   |\n",
      "\n",
      "| O | X |   |\n",
      "\n",
      "Player O \n",
      "|   |   |   |\n",
      "\n",
      "| O |   |   |\n",
      "\n",
      "| O | X |   |\n",
      "\n",
      "Player X\n",
      "|   |   |   |\n",
      "\n",
      "| O |   |   |\n",
      "\n",
      "| O | X |   |\n",
      "\n",
      "Player O \n",
      "O WON!\n",
      "| O |   |   |\n",
      "\n",
      "| O |   |   |\n",
      "\n",
      "| O | X |   |\n",
      "\n"
     ]
    }
   ],
   "source": [
    "import gym\n",
    "# initialize\n",
    "env = gym.make('TicTacToe-v0')\n",
    "s,active_agent = env.reset()\n",
    "env.render()\n",
    "\n",
    "while True:\n",
    "    \n",
    "    print('Player O ') if active_agent else print('Player X') \n",
    "    \n",
    "    # Joint action space\n",
    "    a = [None,None]\n",
    "    a[active_agent] = np.random.randint(9)\n",
    "    \n",
    "    obs,r,done,active_agent = env.step(a)\n",
    "    \n",
    "    env.render()\n",
    "    if done[0]:\n",
    "        break"
   ]
  }
 ],
 "metadata": {
  "kernelspec": {
   "display_name": "Python 3",
   "language": "python",
   "name": "python3"
  },
  "language_info": {
   "codemirror_mode": {
    "name": "ipython",
    "version": 3
   },
   "file_extension": ".py",
   "mimetype": "text/x-python",
   "name": "python",
   "nbconvert_exporter": "python",
   "pygments_lexer": "ipython3",
   "version": "3.6.6"
  },
  "toc": {
   "base_numbering": 1,
   "nav_menu": {},
   "number_sections": true,
   "sideBar": true,
   "skip_h1_title": false,
   "title_cell": "Table of Contents",
   "title_sidebar": "Contents",
   "toc_cell": false,
   "toc_position": {},
   "toc_section_display": true,
   "toc_window_display": false
  },
  "varInspector": {
   "cols": {
    "lenName": 16,
    "lenType": 16,
    "lenVar": 40
   },
   "kernels_config": {
    "python": {
     "delete_cmd_postfix": "",
     "delete_cmd_prefix": "del ",
     "library": "var_list.py",
     "varRefreshCmd": "print(var_dic_list())"
    },
    "r": {
     "delete_cmd_postfix": ") ",
     "delete_cmd_prefix": "rm(",
     "library": "var_list.r",
     "varRefreshCmd": "cat(var_dic_list()) "
    }
   },
   "types_to_exclude": [
    "module",
    "function",
    "builtin_function_or_method",
    "instance",
    "_Feature"
   ],
   "window_display": false
  }
 },
 "nbformat": 4,
 "nbformat_minor": 2
}
