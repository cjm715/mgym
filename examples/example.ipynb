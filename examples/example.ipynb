{
 "cells": [
  {
   "cell_type": "code",
   "execution_count": 4,
   "metadata": {},
   "outputs": [
    {
     "name": "stdout",
     "output_type": "stream",
     "text": [
      "Player X\n",
      "|   |   |   |\n",
      "\n",
      "|   |   | X |\n",
      "\n",
      "|   |   |   |\n",
      "\n",
      "Player O \n",
      "|   |   |   |\n",
      "\n",
      "|   |   | X |\n",
      "\n",
      "|   | O |   |\n",
      "\n",
      "Player X\n",
      "|   |   |   |\n",
      "\n",
      "|   | X | X |\n",
      "\n",
      "|   | O |   |\n",
      "\n",
      "Player O \n",
      "|   |   | O |\n",
      "\n",
      "|   | X | X |\n",
      "\n",
      "|   | O |   |\n",
      "\n",
      "Player X\n",
      "| X |   | O |\n",
      "\n",
      "|   | X | X |\n",
      "\n",
      "|   | O |   |\n",
      "\n",
      "Player O \n",
      "| X |   | O |\n",
      "\n",
      "|   | X | X |\n",
      "\n",
      "|   | O | O |\n",
      "\n",
      "Player X\n",
      "| X |   | O |\n",
      "\n",
      "|   | X | X |\n",
      "\n",
      "| X | O | O |\n",
      "\n",
      "Player O \n",
      "| X | O | O |\n",
      "\n",
      "|   | X | X |\n",
      "\n",
      "| X | O | O |\n",
      "\n",
      "Player X\n",
      "| X | O | O |\n",
      "\n",
      "| X | X | X |\n",
      "\n",
      "| X | O | O |\n",
      "\n"
     ]
    }
   ],
   "source": [
    "import gym\n",
    "import mgym \n",
    "import random\n",
    "\n",
    "env = gym.make('TicTacToe-v0')\n",
    "fullobs = env.reset()\n",
    "while True:\n",
    "    print('Player O ') if fullobs[0] else print('Player X')\n",
    "    a = random.choice(env.get_available_actions())\n",
    "    fullobs,rewards,done,_ = env.step(a)\n",
    "    env.render()\n",
    "    if done:\n",
    "        break"
   ]
  },
  {
   "cell_type": "code",
   "execution_count": null,
   "metadata": {},
   "outputs": [],
   "source": []
  }
 ],
 "metadata": {
  "kernelspec": {
   "display_name": "Python 3",
   "language": "python",
   "name": "python3"
  },
  "language_info": {
   "codemirror_mode": {
    "name": "ipython",
    "version": 3
   },
   "file_extension": ".py",
   "mimetype": "text/x-python",
   "name": "python",
   "nbconvert_exporter": "python",
   "pygments_lexer": "ipython3",
   "version": "3.6.6"
  },
  "toc": {
   "base_numbering": 1,
   "nav_menu": {},
   "number_sections": true,
   "sideBar": true,
   "skip_h1_title": false,
   "title_cell": "Table of Contents",
   "title_sidebar": "Contents",
   "toc_cell": false,
   "toc_position": {},
   "toc_section_display": true,
   "toc_window_display": false
  },
  "varInspector": {
   "cols": {
    "lenName": 16,
    "lenType": 16,
    "lenVar": 40
   },
   "kernels_config": {
    "python": {
     "delete_cmd_postfix": "",
     "delete_cmd_prefix": "del ",
     "library": "var_list.py",
     "varRefreshCmd": "print(var_dic_list())"
    },
    "r": {
     "delete_cmd_postfix": ") ",
     "delete_cmd_prefix": "rm(",
     "library": "var_list.r",
     "varRefreshCmd": "cat(var_dic_list()) "
    }
   },
   "types_to_exclude": [
    "module",
    "function",
    "builtin_function_or_method",
    "instance",
    "_Feature"
   ],
   "window_display": false
  }
 },
 "nbformat": 4,
 "nbformat_minor": 2
}
