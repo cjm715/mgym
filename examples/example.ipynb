{
 "cells": [
  {
   "cell_type": "code",
   "execution_count": 5,
   "metadata": {},
   "outputs": [
    {
     "name": "stdout",
     "output_type": "stream",
     "text": [
      "The autoreload extension is already loaded. To reload it, use:\n",
      "  %reload_ext autoreload\n"
     ]
    }
   ],
   "source": [
    "import matplotlib.pyplot as plt\n",
    "%matplotlib inline\n",
    "%config InlineBackend.figure_format = 'retina'\n",
    "import seaborn as sns\n",
    "import numpy as np\n",
    "%load_ext autoreload\n",
    "%autoreload 2"
   ]
  },
  {
   "cell_type": "code",
   "execution_count": null,
   "metadata": {},
   "outputs": [],
   "source": []
  },
  {
   "cell_type": "code",
   "execution_count": 6,
   "metadata": {},
   "outputs": [
    {
     "ename": "SyntaxError",
     "evalue": "invalid syntax (rockpaperscissors_env.py, line 58)",
     "output_type": "error",
     "traceback": [
      "Traceback \u001b[0;36m(most recent call last)\u001b[0m:\n",
      "  File \u001b[1;32m\"/Users/cmiless/miniconda3/envs/home/lib/python3.6/site-packages/IPython/core/interactiveshell.py\"\u001b[0m, line \u001b[1;32m2963\u001b[0m, in \u001b[1;35mrun_code\u001b[0m\n    exec(code_obj, self.user_global_ns, self.user_ns)\n",
      "  File \u001b[1;32m\"<ipython-input-6-37bb2516f3a9>\"\u001b[0m, line \u001b[1;32m5\u001b[0m, in \u001b[1;35m<module>\u001b[0m\n    env = gym.make('TicTacToe-v0')\n",
      "  File \u001b[1;32m\"/Users/cmiless/miniconda3/envs/home/lib/python3.6/site-packages/gym/envs/registration.py\"\u001b[0m, line \u001b[1;32m167\u001b[0m, in \u001b[1;35mmake\u001b[0m\n    return registry.make(id)\n",
      "  File \u001b[1;32m\"/Users/cmiless/miniconda3/envs/home/lib/python3.6/site-packages/gym/envs/registration.py\"\u001b[0m, line \u001b[1;32m119\u001b[0m, in \u001b[1;35mmake\u001b[0m\n    env = spec.make()\n",
      "  File \u001b[1;32m\"/Users/cmiless/miniconda3/envs/home/lib/python3.6/site-packages/gym/envs/registration.py\"\u001b[0m, line \u001b[1;32m85\u001b[0m, in \u001b[1;35mmake\u001b[0m\n    cls = load(self._entry_point)\n",
      "  File \u001b[1;32m\"/Users/cmiless/miniconda3/envs/home/lib/python3.6/site-packages/gym/envs/registration.py\"\u001b[0m, line \u001b[1;32m14\u001b[0m, in \u001b[1;35mload\u001b[0m\n    result = entry_point.load(False)\n",
      "  File \u001b[1;32m\"/Users/cmiless/miniconda3/envs/home/lib/python3.6/site-packages/pkg_resources/__init__.py\"\u001b[0m, line \u001b[1;32m2318\u001b[0m, in \u001b[1;35mload\u001b[0m\n    return self.resolve()\n",
      "  File \u001b[1;32m\"/Users/cmiless/miniconda3/envs/home/lib/python3.6/site-packages/pkg_resources/__init__.py\"\u001b[0m, line \u001b[1;32m2324\u001b[0m, in \u001b[1;35mresolve\u001b[0m\n    module = __import__(self.module_name, fromlist=['__name__'], level=0)\n",
      "\u001b[0;36m  File \u001b[0;32m\"/Users/cmiless/Dropbox/projects/mgym/mgym/envs/__init__.py\"\u001b[0;36m, line \u001b[0;32m2\u001b[0;36m, in \u001b[0;35m<module>\u001b[0;36m\u001b[0m\n\u001b[0;31m    from mgym.envs.rockpaperscissors_env import RockPaperScissorsEnv\u001b[0m\n",
      "\u001b[0;36m  File \u001b[0;32m\"/Users/cmiless/Dropbox/projects/mgym/mgym/envs/rockpaperscissors_env.py\"\u001b[0;36m, line \u001b[0;32m58\u001b[0m\n\u001b[0;31m    elif who_won = 0:\u001b[0m\n\u001b[0m                 ^\u001b[0m\n\u001b[0;31mSyntaxError\u001b[0m\u001b[0;31m:\u001b[0m invalid syntax\n"
     ]
    }
   ],
   "source": [
    "import gym\n",
    "import mgym \n",
    "import random\n",
    "\n",
    "env = gym.make('TicTacToe-v0')\n",
    "fullobs = env.reset()\n",
    "while True:\n",
    "    print('Player O ') if fullobs[0] else print('Player X')\n",
    "    a = random.choice(env.get_available_actions())\n",
    "    fullobs,rewards,done,_ = env.step(a)\n",
    "    env.render()\n",
    "    if done:\n",
    "        break"
   ]
  },
  {
   "cell_type": "code",
   "execution_count": null,
   "metadata": {},
   "outputs": [],
   "source": []
  },
  {
   "cell_type": "code",
   "execution_count": 72,
   "metadata": {},
   "outputs": [],
   "source": [
    "env = gym.make('RPS-v0')\n",
    "obs = env.reset()\n",
    "env.render()\n",
    "# a = env.action_space.sample()\n",
    "# fullobs,rewards,done,_ = env.step(a)\n",
    "# env.render()\n"
   ]
  },
  {
   "cell_type": "code",
   "execution_count": null,
   "metadata": {},
   "outputs": [],
   "source": []
  },
  {
   "cell_type": "code",
   "execution_count": 31,
   "metadata": {},
   "outputs": [
    {
     "data": {
      "text/plain": [
       "'ab'"
      ]
     },
     "execution_count": 31,
     "metadata": {},
     "output_type": "execute_result"
    }
   ],
   "source": [
    "'a'+'b'"
   ]
  },
  {
   "cell_type": "code",
   "execution_count": null,
   "metadata": {},
   "outputs": [],
   "source": []
  }
 ],
 "metadata": {
  "kernelspec": {
   "display_name": "Python 3",
   "language": "python",
   "name": "python3"
  },
  "language_info": {
   "codemirror_mode": {
    "name": "ipython",
    "version": 3
   },
   "file_extension": ".py",
   "mimetype": "text/x-python",
   "name": "python",
   "nbconvert_exporter": "python",
   "pygments_lexer": "ipython3",
   "version": "3.6.6"
  },
  "toc": {
   "base_numbering": 1,
   "nav_menu": {},
   "number_sections": true,
   "sideBar": true,
   "skip_h1_title": false,
   "title_cell": "Table of Contents",
   "title_sidebar": "Contents",
   "toc_cell": false,
   "toc_position": {},
   "toc_section_display": true,
   "toc_window_display": false
  },
  "varInspector": {
   "cols": {
    "lenName": 16,
    "lenType": 16,
    "lenVar": 40
   },
   "kernels_config": {
    "python": {
     "delete_cmd_postfix": "",
     "delete_cmd_prefix": "del ",
     "library": "var_list.py",
     "varRefreshCmd": "print(var_dic_list())"
    },
    "r": {
     "delete_cmd_postfix": ") ",
     "delete_cmd_prefix": "rm(",
     "library": "var_list.r",
     "varRefreshCmd": "cat(var_dic_list()) "
    }
   },
   "types_to_exclude": [
    "module",
    "function",
    "builtin_function_or_method",
    "instance",
    "_Feature"
   ],
   "window_display": false
  }
 },
 "nbformat": 4,
 "nbformat_minor": 2
}
