{
 "cells": [
  {
   "cell_type": "code",
   "execution_count": 51,
   "metadata": {},
   "outputs": [
    {
     "name": "stdout",
     "output_type": "stream",
     "text": [
      "The autoreload extension is already loaded. To reload it, use:\n",
      "  %reload_ext autoreload\n"
     ]
    }
   ],
   "source": [
    "import matplotlib.pyplot as plt\n",
    "%matplotlib inline\n",
    "%config InlineBackend.figure_format = 'retina'\n",
    "import seaborn as sns\n",
    "import numpy as np\n",
    "import mgym \n",
    "\n",
    "%load_ext autoreload\n",
    "%autoreload 2"
   ]
  },
  {
   "cell_type": "code",
   "execution_count": 52,
   "metadata": {},
   "outputs": [
    {
     "name": "stdout",
     "output_type": "stream",
     "text": [
      "|   |   |   |\n",
      "\n",
      "|   |   |   |\n",
      "\n",
      "|   |   |   |\n",
      "\n",
      "Player X\n",
      "|   |   |   |\n",
      "\n",
      "|   | X |   |\n",
      "\n",
      "|   |   |   |\n",
      "\n",
      "Player O \n",
      "|   | O |   |\n",
      "\n",
      "|   | X |   |\n",
      "\n",
      "|   |   |   |\n",
      "\n",
      "Player X\n",
      "|   | O |   |\n",
      "\n",
      "|   | X |   |\n",
      "\n",
      "| X |   |   |\n",
      "\n",
      "Player O \n",
      "|   | O |   |\n",
      "\n",
      "|   | X |   |\n",
      "\n",
      "| X | O |   |\n",
      "\n",
      "Player X\n",
      "|   | O |   |\n",
      "\n",
      "|   | X |   |\n",
      "\n",
      "| X | O | X |\n",
      "\n",
      "Player O \n",
      "|   | O |   |\n",
      "\n",
      "| O | X |   |\n",
      "\n",
      "| X | O | X |\n",
      "\n",
      "Player X\n",
      "|   | O | X |\n",
      "\n",
      "| O | X |   |\n",
      "\n",
      "| X | O | X |\n",
      "\n"
     ]
    }
   ],
   "source": [
    "import gym\n",
    "import random\n",
    "\n",
    "# initialize\n",
    "env = gym.make('TicTacToe-v0')\n",
    "fullobs = env.reset()\n",
    "env.render()\n",
    "while True:\n",
    "    print('Player O ') if fullobs[0] else print('Player X')\n",
    "    a = random.choice(env.get_available_actions())\n",
    "    fullobs,rewards,done,_ = env.step(a)\n",
    "    env.render()\n",
    "    if done:\n",
    "        break"
   ]
  },
  {
   "cell_type": "code",
   "execution_count": null,
   "metadata": {},
   "outputs": [],
   "source": [
    "a = 0\n",
    "b =tuple([10.0,0])\n",
    "b[-1]"
   ]
  },
  {
   "cell_type": "code",
   "execution_count": null,
   "metadata": {},
   "outputs": [],
   "source": [
    "print(type(a))"
   ]
  },
  {
   "cell_type": "code",
   "execution_count": null,
   "metadata": {},
   "outputs": [],
   "source": [
    "env.observation_space.sample()"
   ]
  },
  {
   "cell_type": "code",
   "execution_count": null,
   "metadata": {},
   "outputs": [],
   "source": [
    "env.action_space.sample()"
   ]
  },
  {
   "cell_type": "code",
   "execution_count": null,
   "metadata": {},
   "outputs": [],
   "source": []
  }
 ],
 "metadata": {
  "kernelspec": {
   "display_name": "Python 3",
   "language": "python",
   "name": "python3"
  },
  "language_info": {
   "codemirror_mode": {
    "name": "ipython",
    "version": 3
   },
   "file_extension": ".py",
   "mimetype": "text/x-python",
   "name": "python",
   "nbconvert_exporter": "python",
   "pygments_lexer": "ipython3",
   "version": "3.6.6"
  },
  "toc": {
   "base_numbering": 1,
   "nav_menu": {},
   "number_sections": true,
   "sideBar": true,
   "skip_h1_title": false,
   "title_cell": "Table of Contents",
   "title_sidebar": "Contents",
   "toc_cell": false,
   "toc_position": {},
   "toc_section_display": true,
   "toc_window_display": false
  },
  "varInspector": {
   "cols": {
    "lenName": 16,
    "lenType": 16,
    "lenVar": 40
   },
   "kernels_config": {
    "python": {
     "delete_cmd_postfix": "",
     "delete_cmd_prefix": "del ",
     "library": "var_list.py",
     "varRefreshCmd": "print(var_dic_list())"
    },
    "r": {
     "delete_cmd_postfix": ") ",
     "delete_cmd_prefix": "rm(",
     "library": "var_list.r",
     "varRefreshCmd": "cat(var_dic_list()) "
    }
   },
   "types_to_exclude": [
    "module",
    "function",
    "builtin_function_or_method",
    "instance",
    "_Feature"
   ],
   "window_display": false
  }
 },
 "nbformat": 4,
 "nbformat_minor": 2
}
